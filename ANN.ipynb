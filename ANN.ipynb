{
  "nbformat": 4,
  "nbformat_minor": 0,
  "metadata": {
    "colab": {
      "name": "ANN",
      "provenance": []
    },
    "kernelspec": {
      "name": "python3",
      "display_name": "Python 3"
    }
  },
  "cells": [
    {
      "cell_type": "code",
      "metadata": {
        "id": "wX-qtXma7d_p"
      },
      "source": [
        "import pandas as pd"
      ],
      "execution_count": 1,
      "outputs": []
    },
    {
      "cell_type": "code",
      "metadata": {
        "id": "t89n1uZeBOSS",
        "outputId": "546ca672-1b38-4b94-981a-00665e83ec48",
        "colab": {
          "base_uri": "https://localhost:8080/"
        }
      },
      "source": [
        "file = r'Car_Purchasing_Data.csv'\n",
        "df = pd.read_csv (file,sep=',',encoding=\"ISO-8859-1\")\n",
        "print (df)"
      ],
      "execution_count": 2,
      "outputs": [
        {
          "output_type": "stream",
          "text": [
            "       Customer Name  ... Car Purchase Amount\n",
            "0      Martina Avila  ...         35321.45877\n",
            "1      Harlan Barnes  ...         45115.52566\n",
            "2    Naomi Rodriquez  ...         42925.70921\n",
            "3    Jade Cunningham  ...         67422.36313\n",
            "4       Cedric Leach  ...         55915.46248\n",
            "..               ...  ...                 ...\n",
            "495           Walter  ...         48901.44342\n",
            "496            Vanna  ...         31491.41457\n",
            "497            Pearl  ...         64147.28888\n",
            "498             Nell  ...         45442.15353\n",
            "499            Marla  ...         45107.22566\n",
            "\n",
            "[500 rows x 9 columns]\n"
          ],
          "name": "stdout"
        }
      ]
    },
    {
      "cell_type": "code",
      "metadata": {
        "id": "TrEHc96DBQpg",
        "outputId": "07ee689d-5c46-457c-80c5-ed122ae2f84f",
        "colab": {
          "base_uri": "https://localhost:8080/",
          "height": 300
        }
      },
      "source": [
        "df.describe()"
      ],
      "execution_count": 3,
      "outputs": [
        {
          "output_type": "execute_result",
          "data": {
            "text/html": [
              "<div>\n",
              "<style scoped>\n",
              "    .dataframe tbody tr th:only-of-type {\n",
              "        vertical-align: middle;\n",
              "    }\n",
              "\n",
              "    .dataframe tbody tr th {\n",
              "        vertical-align: top;\n",
              "    }\n",
              "\n",
              "    .dataframe thead th {\n",
              "        text-align: right;\n",
              "    }\n",
              "</style>\n",
              "<table border=\"1\" class=\"dataframe\">\n",
              "  <thead>\n",
              "    <tr style=\"text-align: right;\">\n",
              "      <th></th>\n",
              "      <th>Gender</th>\n",
              "      <th>Age</th>\n",
              "      <th>Annual Salary</th>\n",
              "      <th>Credit Card Debt</th>\n",
              "      <th>Net Worth</th>\n",
              "      <th>Car Purchase Amount</th>\n",
              "    </tr>\n",
              "  </thead>\n",
              "  <tbody>\n",
              "    <tr>\n",
              "      <th>count</th>\n",
              "      <td>500.000000</td>\n",
              "      <td>500.000000</td>\n",
              "      <td>500.000000</td>\n",
              "      <td>500.000000</td>\n",
              "      <td>500.000000</td>\n",
              "      <td>500.000000</td>\n",
              "    </tr>\n",
              "    <tr>\n",
              "      <th>mean</th>\n",
              "      <td>0.506000</td>\n",
              "      <td>46.241674</td>\n",
              "      <td>62127.239608</td>\n",
              "      <td>9607.645049</td>\n",
              "      <td>431475.713625</td>\n",
              "      <td>44209.799218</td>\n",
              "    </tr>\n",
              "    <tr>\n",
              "      <th>std</th>\n",
              "      <td>0.500465</td>\n",
              "      <td>7.978862</td>\n",
              "      <td>11703.378228</td>\n",
              "      <td>3489.187973</td>\n",
              "      <td>173536.756340</td>\n",
              "      <td>10773.178744</td>\n",
              "    </tr>\n",
              "    <tr>\n",
              "      <th>min</th>\n",
              "      <td>0.000000</td>\n",
              "      <td>20.000000</td>\n",
              "      <td>20000.000000</td>\n",
              "      <td>100.000000</td>\n",
              "      <td>20000.000000</td>\n",
              "      <td>9000.000000</td>\n",
              "    </tr>\n",
              "    <tr>\n",
              "      <th>25%</th>\n",
              "      <td>0.000000</td>\n",
              "      <td>40.949969</td>\n",
              "      <td>54391.977195</td>\n",
              "      <td>7397.515792</td>\n",
              "      <td>299824.195900</td>\n",
              "      <td>37629.896040</td>\n",
              "    </tr>\n",
              "    <tr>\n",
              "      <th>50%</th>\n",
              "      <td>1.000000</td>\n",
              "      <td>46.049901</td>\n",
              "      <td>62915.497035</td>\n",
              "      <td>9655.035568</td>\n",
              "      <td>426750.120650</td>\n",
              "      <td>43997.783390</td>\n",
              "    </tr>\n",
              "    <tr>\n",
              "      <th>75%</th>\n",
              "      <td>1.000000</td>\n",
              "      <td>51.612263</td>\n",
              "      <td>70117.862005</td>\n",
              "      <td>11798.867487</td>\n",
              "      <td>557324.478725</td>\n",
              "      <td>51254.709517</td>\n",
              "    </tr>\n",
              "    <tr>\n",
              "      <th>max</th>\n",
              "      <td>1.000000</td>\n",
              "      <td>70.000000</td>\n",
              "      <td>100000.000000</td>\n",
              "      <td>20000.000000</td>\n",
              "      <td>1000000.000000</td>\n",
              "      <td>80000.000000</td>\n",
              "    </tr>\n",
              "  </tbody>\n",
              "</table>\n",
              "</div>"
            ],
            "text/plain": [
              "           Gender         Age  ...       Net Worth  Car Purchase Amount\n",
              "count  500.000000  500.000000  ...      500.000000           500.000000\n",
              "mean     0.506000   46.241674  ...   431475.713625         44209.799218\n",
              "std      0.500465    7.978862  ...   173536.756340         10773.178744\n",
              "min      0.000000   20.000000  ...    20000.000000          9000.000000\n",
              "25%      0.000000   40.949969  ...   299824.195900         37629.896040\n",
              "50%      1.000000   46.049901  ...   426750.120650         43997.783390\n",
              "75%      1.000000   51.612263  ...   557324.478725         51254.709517\n",
              "max      1.000000   70.000000  ...  1000000.000000         80000.000000\n",
              "\n",
              "[8 rows x 6 columns]"
            ]
          },
          "metadata": {
            "tags": []
          },
          "execution_count": 3
        }
      ]
    },
    {
      "cell_type": "code",
      "metadata": {
        "id": "ycD7SGl7BTgZ"
      },
      "source": [
        "y=df['Car Purchase Amount']"
      ],
      "execution_count": 4,
      "outputs": []
    },
    {
      "cell_type": "code",
      "metadata": {
        "id": "loECZHt1BWQD"
      },
      "source": [
        "data=['Gender','Age','Annual Salary','Credit Card Debt','Net Worth']"
      ],
      "execution_count": 5,
      "outputs": []
    },
    {
      "cell_type": "code",
      "metadata": {
        "id": "TIJ3KnyRBYzX"
      },
      "source": [
        "X=df[data]"
      ],
      "execution_count": 6,
      "outputs": []
    },
    {
      "cell_type": "code",
      "metadata": {
        "id": "86sZIIxGBcWs"
      },
      "source": [
        "from sklearn import preprocessing"
      ],
      "execution_count": 7,
      "outputs": []
    },
    {
      "cell_type": "code",
      "metadata": {
        "id": "XxC17a8aBqf-"
      },
      "source": [
        "min_max_scaler=preprocessing.MinMaxScaler()"
      ],
      "execution_count": 8,
      "outputs": []
    },
    {
      "cell_type": "code",
      "metadata": {
        "id": "ViTakyYlB-f3"
      },
      "source": [
        "x_scale=min_max_scaler.fit_transform(X)"
      ],
      "execution_count": 9,
      "outputs": []
    },
    {
      "cell_type": "code",
      "metadata": {
        "id": "LyPNMW5dCKXa",
        "outputId": "748a33d8-ac57-4732-c0fd-3fbd77617e94",
        "colab": {
          "base_uri": "https://localhost:8080/"
        }
      },
      "source": [
        "x_scale"
      ],
      "execution_count": 10,
      "outputs": [
        {
          "output_type": "execute_result",
          "data": {
            "text/plain": [
              "array([[0.        , 0.4370344 , 0.53515116, 0.57836085, 0.22342985],\n",
              "       [0.        , 0.41741247, 0.58308616, 0.476028  , 0.52140195],\n",
              "       [1.        , 0.46305795, 0.42248189, 0.55579674, 0.63108896],\n",
              "       ...,\n",
              "       [1.        , 0.67886994, 0.61110973, 0.52822145, 0.75972584],\n",
              "       [1.        , 0.78321017, 0.37264988, 0.69914746, 0.3243129 ],\n",
              "       [1.        , 0.53462305, 0.51713347, 0.46690159, 0.45198622]])"
            ]
          },
          "metadata": {
            "tags": []
          },
          "execution_count": 10
        }
      ]
    },
    {
      "cell_type": "code",
      "metadata": {
        "id": "85oFNYToCNMb"
      },
      "source": [
        "from sklearn.model_selection import train_test_split"
      ],
      "execution_count": 11,
      "outputs": []
    },
    {
      "cell_type": "code",
      "metadata": {
        "id": "twRk90NXCVJk"
      },
      "source": [
        "X_train, X_val, Y_train, Y_val = train_test_split(x_scale, y, test_size=0.3)"
      ],
      "execution_count": 14,
      "outputs": []
    },
    {
      "cell_type": "code",
      "metadata": {
        "id": "6Tcxn6HeCZTu",
        "outputId": "75803c4b-874c-4195-e64a-7ef431e8eb1c",
        "colab": {
          "base_uri": "https://localhost:8080/"
        }
      },
      "source": [
        "X_train.shape"
      ],
      "execution_count": 17,
      "outputs": [
        {
          "output_type": "execute_result",
          "data": {
            "text/plain": [
              "(350, 5)"
            ]
          },
          "metadata": {
            "tags": []
          },
          "execution_count": 17
        }
      ]
    },
    {
      "cell_type": "code",
      "metadata": {
        "id": "Z5Us6GawClFd",
        "outputId": "b0118c52-4cc1-4c02-acae-67c69168f595",
        "colab": {
          "base_uri": "https://localhost:8080/"
        }
      },
      "source": [
        "X_val.shape"
      ],
      "execution_count": 18,
      "outputs": [
        {
          "output_type": "execute_result",
          "data": {
            "text/plain": [
              "(150, 5)"
            ]
          },
          "metadata": {
            "tags": []
          },
          "execution_count": 18
        }
      ]
    },
    {
      "cell_type": "code",
      "metadata": {
        "id": "dWZyn5vgCnXP"
      },
      "source": [
        "import keras"
      ],
      "execution_count": 19,
      "outputs": []
    },
    {
      "cell_type": "code",
      "metadata": {
        "id": "B9tIpgTwC1Jv"
      },
      "source": [
        "# For building the Neural Network layer by layer\n",
        "\n",
        "from keras.models import Sequential"
      ],
      "execution_count": 20,
      "outputs": []
    },
    {
      "cell_type": "code",
      "metadata": {
        "id": "jneBSB6bC6gL"
      },
      "source": [
        "#To randomly initialize the weights to small numbers close to 0(But not 0)\n",
        "\n",
        "from keras.layers import Dense"
      ],
      "execution_count": 21,
      "outputs": []
    },
    {
      "cell_type": "code",
      "metadata": {
        "id": "HtNr6AaLC84e"
      },
      "source": [
        "#Initializing the ANN…\n",
        "\n",
        "classifier = Sequential()"
      ],
      "execution_count": 22,
      "outputs": []
    },
    {
      "cell_type": "code",
      "metadata": {
        "id": "1EeKWnx0DARd"
      },
      "source": [
        "#Adding the input layer and the first hidden layer…\n",
        "\n",
        "classifier.add(Dense(375, activation = 'relu',input_shape=[5]))"
      ],
      "execution_count": 23,
      "outputs": []
    },
    {
      "cell_type": "code",
      "metadata": {
        "id": "omLJaqlEDC7m"
      },
      "source": [
        "#Adding the second hidden layer…\n",
        "\n",
        "classifier.add(Dense(200, activation = 'relu'))"
      ],
      "execution_count": 24,
      "outputs": []
    },
    {
      "cell_type": "code",
      "metadata": {
        "id": "Nzo7AdVeDH_3"
      },
      "source": [
        "#Adding the third hidden layer…\n",
        "\n",
        "classifier.add(Dense(100, activation = 'relu'))"
      ],
      "execution_count": 25,
      "outputs": []
    },
    {
      "cell_type": "code",
      "metadata": {
        "id": "ymEk57JhDL_D"
      },
      "source": [
        "#Adding the output layer…\n",
        "\n",
        "classifier.add(Dense(1, activation = 'sigmoid'))"
      ],
      "execution_count": 26,
      "outputs": []
    },
    {
      "cell_type": "code",
      "metadata": {
        "id": "cPGhky0ODOCg"
      },
      "source": [
        "#Compiling the ANN…\n",
        "\n",
        "classifier.compile(optimizer = 'adam', loss = 'mae', metrics=['mse', 'mae', 'mape'])"
      ],
      "execution_count": 27,
      "outputs": []
    },
    {
      "cell_type": "code",
      "metadata": {
        "id": "rsQ3eyltDQ0H",
        "outputId": "03b35560-b94c-4fd0-d158-5887bdbae670",
        "colab": {
          "base_uri": "https://localhost:8080/"
        }
      },
      "source": [
        "# Fitting the ANN to the Training set\n",
        "history = classifier.fit(\n",
        "    x=X_train, y=Y_train,\n",
        "    validation_data=(X_val,Y_val),\n",
        "    batch_size=375,\n",
        "    epochs=100,\n",
        ")"
      ],
      "execution_count": 29,
      "outputs": [
        {
          "output_type": "stream",
          "text": [
            "Epoch 1/100\n",
            "1/1 [==============================] - 0s 179ms/step - loss: 44875.4297 - mse: 2128894592.0000 - mae: 44875.4297 - mape: 99.9988 - val_loss: 42654.9883 - val_mse: 1933549696.0000 - val_mae: 42654.9883 - val_mape: 99.9987\n",
            "Epoch 2/100\n",
            "1/1 [==============================] - 0s 20ms/step - loss: 44875.3867 - mse: 2128891264.0000 - mae: 44875.3867 - mape: 99.9987 - val_loss: 42654.9570 - val_mse: 1933547520.0000 - val_mae: 42654.9570 - val_mape: 99.9986\n",
            "Epoch 3/100\n",
            "1/1 [==============================] - 0s 19ms/step - loss: 44875.3594 - mse: 2128888320.0000 - mae: 44875.3594 - mape: 99.9987 - val_loss: 42654.9297 - val_mse: 1933545088.0000 - val_mae: 42654.9297 - val_mape: 99.9985\n",
            "Epoch 4/100\n",
            "1/1 [==============================] - 0s 23ms/step - loss: 44875.3320 - mse: 2128885632.0000 - mae: 44875.3320 - mape: 99.9986 - val_loss: 42654.8984 - val_mse: 1933542528.0000 - val_mae: 42654.8984 - val_mape: 99.9985\n",
            "Epoch 5/100\n",
            "1/1 [==============================] - 0s 21ms/step - loss: 44875.3047 - mse: 2128883072.0000 - mae: 44875.3047 - mape: 99.9985 - val_loss: 42654.8750 - val_mse: 1933539840.0000 - val_mae: 42654.8750 - val_mape: 99.9984\n",
            "Epoch 6/100\n",
            "1/1 [==============================] - 0s 22ms/step - loss: 44875.2734 - mse: 2128880384.0000 - mae: 44875.2734 - mape: 99.9985 - val_loss: 42654.8438 - val_mse: 1933537024.0000 - val_mae: 42654.8438 - val_mape: 99.9983\n",
            "Epoch 7/100\n",
            "1/1 [==============================] - 0s 22ms/step - loss: 44875.2422 - mse: 2128877440.0000 - mae: 44875.2422 - mape: 99.9984 - val_loss: 42654.8086 - val_mse: 1933534208.0000 - val_mae: 42654.8086 - val_mape: 99.9982\n",
            "Epoch 8/100\n",
            "1/1 [==============================] - 0s 22ms/step - loss: 44875.2070 - mse: 2128873984.0000 - mae: 44875.2070 - mape: 99.9983 - val_loss: 42654.7695 - val_mse: 1933531136.0000 - val_mae: 42654.7695 - val_mape: 99.9981\n",
            "Epoch 9/100\n",
            "1/1 [==============================] - 0s 22ms/step - loss: 44875.1719 - mse: 2128870656.0000 - mae: 44875.1719 - mape: 99.9982 - val_loss: 42654.7344 - val_mse: 1933527808.0000 - val_mae: 42654.7344 - val_mape: 99.9980\n",
            "Epoch 10/100\n",
            "1/1 [==============================] - 0s 20ms/step - loss: 44875.1289 - mse: 2128867456.0000 - mae: 44875.1289 - mape: 99.9981 - val_loss: 42654.6914 - val_mse: 1933524608.0000 - val_mae: 42654.6914 - val_mape: 99.9979\n",
            "Epoch 11/100\n",
            "1/1 [==============================] - 0s 20ms/step - loss: 44875.0898 - mse: 2128863872.0000 - mae: 44875.0898 - mape: 99.9980 - val_loss: 42654.6562 - val_mse: 1933521536.0000 - val_mae: 42654.6562 - val_mape: 99.9978\n",
            "Epoch 12/100\n",
            "1/1 [==============================] - 0s 27ms/step - loss: 44875.0586 - mse: 2128860928.0000 - mae: 44875.0586 - mape: 99.9979 - val_loss: 42654.6250 - val_mse: 1933518464.0000 - val_mae: 42654.6250 - val_mape: 99.9978\n",
            "Epoch 13/100\n",
            "1/1 [==============================] - 0s 21ms/step - loss: 44875.0273 - mse: 2128857984.0000 - mae: 44875.0273 - mape: 99.9979 - val_loss: 42654.5977 - val_mse: 1933516032.0000 - val_mae: 42654.5977 - val_mape: 99.9977\n",
            "Epoch 14/100\n",
            "1/1 [==============================] - 0s 20ms/step - loss: 44874.9961 - mse: 2128855552.0000 - mae: 44874.9961 - mape: 99.9978 - val_loss: 42654.5742 - val_mse: 1933514240.0000 - val_mae: 42654.5742 - val_mape: 99.9976\n",
            "Epoch 15/100\n",
            "1/1 [==============================] - 0s 19ms/step - loss: 44874.9727 - mse: 2128853504.0000 - mae: 44874.9727 - mape: 99.9977 - val_loss: 42654.5547 - val_mse: 1933512960.0000 - val_mae: 42654.5547 - val_mape: 99.9976\n",
            "Epoch 16/100\n",
            "1/1 [==============================] - 0s 20ms/step - loss: 44874.9570 - mse: 2128852096.0000 - mae: 44874.9570 - mape: 99.9977 - val_loss: 42654.5430 - val_mse: 1933511936.0000 - val_mae: 42654.5430 - val_mape: 99.9976\n",
            "Epoch 17/100\n",
            "1/1 [==============================] - 0s 21ms/step - loss: 44874.9414 - mse: 2128851072.0000 - mae: 44874.9414 - mape: 99.9977 - val_loss: 42654.5352 - val_mse: 1933511040.0000 - val_mae: 42654.5352 - val_mape: 99.9975\n",
            "Epoch 18/100\n",
            "1/1 [==============================] - 0s 21ms/step - loss: 44874.9336 - mse: 2128850304.0000 - mae: 44874.9336 - mape: 99.9976 - val_loss: 42654.5312 - val_mse: 1933510528.0000 - val_mae: 42654.5312 - val_mape: 99.9975\n",
            "Epoch 19/100\n",
            "1/1 [==============================] - 0s 21ms/step - loss: 44874.9297 - mse: 2128849664.0000 - mae: 44874.9297 - mape: 99.9976 - val_loss: 42654.5273 - val_mse: 1933510400.0000 - val_mae: 42654.5273 - val_mape: 99.9975\n",
            "Epoch 20/100\n",
            "1/1 [==============================] - 0s 21ms/step - loss: 44874.9297 - mse: 2128849664.0000 - mae: 44874.9297 - mape: 99.9976 - val_loss: 42654.5195 - val_mse: 1933510144.0000 - val_mae: 42654.5195 - val_mape: 99.9975\n",
            "Epoch 21/100\n",
            "1/1 [==============================] - 0s 20ms/step - loss: 44874.9219 - mse: 2128849280.0000 - mae: 44874.9219 - mape: 99.9976 - val_loss: 42654.5195 - val_mse: 1933509888.0000 - val_mae: 42654.5195 - val_mape: 99.9975\n",
            "Epoch 22/100\n",
            "1/1 [==============================] - 0s 23ms/step - loss: 44874.9219 - mse: 2128848896.0000 - mae: 44874.9219 - mape: 99.9976 - val_loss: 42654.5195 - val_mse: 1933509888.0000 - val_mae: 42654.5195 - val_mape: 99.9975\n",
            "Epoch 23/100\n",
            "1/1 [==============================] - 0s 22ms/step - loss: 44874.9219 - mse: 2128849152.0000 - mae: 44874.9219 - mape: 99.9976 - val_loss: 42654.5195 - val_mse: 1933509760.0000 - val_mae: 42654.5195 - val_mape: 99.9975\n",
            "Epoch 24/100\n",
            "1/1 [==============================] - 0s 25ms/step - loss: 44874.9219 - mse: 2128848896.0000 - mae: 44874.9219 - mape: 99.9976 - val_loss: 42654.5195 - val_mse: 1933509760.0000 - val_mae: 42654.5195 - val_mape: 99.9975\n",
            "Epoch 25/100\n",
            "1/1 [==============================] - 0s 20ms/step - loss: 44874.9219 - mse: 2128848896.0000 - mae: 44874.9219 - mape: 99.9976 - val_loss: 42654.5195 - val_mse: 1933509760.0000 - val_mae: 42654.5195 - val_mape: 99.9975\n",
            "Epoch 26/100\n",
            "1/1 [==============================] - 0s 20ms/step - loss: 44874.9219 - mse: 2128848896.0000 - mae: 44874.9219 - mape: 99.9976 - val_loss: 42654.5195 - val_mse: 1933509760.0000 - val_mae: 42654.5195 - val_mape: 99.9975\n",
            "Epoch 27/100\n",
            "1/1 [==============================] - 0s 20ms/step - loss: 44874.9219 - mse: 2128848896.0000 - mae: 44874.9219 - mape: 99.9976 - val_loss: 42654.5195 - val_mse: 1933509760.0000 - val_mae: 42654.5195 - val_mape: 99.9975\n",
            "Epoch 28/100\n",
            "1/1 [==============================] - 0s 20ms/step - loss: 44874.9219 - mse: 2128849152.0000 - mae: 44874.9219 - mape: 99.9976 - val_loss: 42654.5195 - val_mse: 1933509760.0000 - val_mae: 42654.5195 - val_mape: 99.9975\n",
            "Epoch 29/100\n",
            "1/1 [==============================] - 0s 21ms/step - loss: 44874.9219 - mse: 2128848896.0000 - mae: 44874.9219 - mape: 99.9976 - val_loss: 42654.5195 - val_mse: 1933509760.0000 - val_mae: 42654.5195 - val_mape: 99.9975\n",
            "Epoch 30/100\n",
            "1/1 [==============================] - 0s 19ms/step - loss: 44874.9219 - mse: 2128848896.0000 - mae: 44874.9219 - mape: 99.9976 - val_loss: 42654.5195 - val_mse: 1933509760.0000 - val_mae: 42654.5195 - val_mape: 99.9975\n",
            "Epoch 31/100\n",
            "1/1 [==============================] - 0s 21ms/step - loss: 44874.9219 - mse: 2128848896.0000 - mae: 44874.9219 - mape: 99.9976 - val_loss: 42654.5195 - val_mse: 1933509760.0000 - val_mae: 42654.5195 - val_mape: 99.9975\n",
            "Epoch 32/100\n",
            "1/1 [==============================] - 0s 19ms/step - loss: 44874.9219 - mse: 2128848768.0000 - mae: 44874.9219 - mape: 99.9976 - val_loss: 42654.5195 - val_mse: 1933509760.0000 - val_mae: 42654.5195 - val_mape: 99.9975\n",
            "Epoch 33/100\n",
            "1/1 [==============================] - 0s 19ms/step - loss: 44874.9219 - mse: 2128848896.0000 - mae: 44874.9219 - mape: 99.9976 - val_loss: 42654.5195 - val_mse: 1933509760.0000 - val_mae: 42654.5195 - val_mape: 99.9975\n",
            "Epoch 34/100\n",
            "1/1 [==============================] - 0s 21ms/step - loss: 44874.9219 - mse: 2128848896.0000 - mae: 44874.9219 - mape: 99.9976 - val_loss: 42654.5195 - val_mse: 1933509760.0000 - val_mae: 42654.5195 - val_mape: 99.9975\n",
            "Epoch 35/100\n",
            "1/1 [==============================] - 0s 21ms/step - loss: 44874.9219 - mse: 2128848768.0000 - mae: 44874.9219 - mape: 99.9976 - val_loss: 42654.5195 - val_mse: 1933509760.0000 - val_mae: 42654.5195 - val_mape: 99.9975\n",
            "Epoch 36/100\n",
            "1/1 [==============================] - 0s 21ms/step - loss: 44874.9219 - mse: 2128848896.0000 - mae: 44874.9219 - mape: 99.9976 - val_loss: 42654.5195 - val_mse: 1933509760.0000 - val_mae: 42654.5195 - val_mape: 99.9975\n",
            "Epoch 37/100\n",
            "1/1 [==============================] - 0s 24ms/step - loss: 44874.9219 - mse: 2128848896.0000 - mae: 44874.9219 - mape: 99.9976 - val_loss: 42654.5195 - val_mse: 1933509760.0000 - val_mae: 42654.5195 - val_mape: 99.9975\n",
            "Epoch 38/100\n",
            "1/1 [==============================] - 0s 20ms/step - loss: 44874.9219 - mse: 2128848768.0000 - mae: 44874.9219 - mape: 99.9976 - val_loss: 42654.5195 - val_mse: 1933509760.0000 - val_mae: 42654.5195 - val_mape: 99.9975\n",
            "Epoch 39/100\n",
            "1/1 [==============================] - 0s 19ms/step - loss: 44874.9219 - mse: 2128849152.0000 - mae: 44874.9219 - mape: 99.9976 - val_loss: 42654.5195 - val_mse: 1933509760.0000 - val_mae: 42654.5195 - val_mape: 99.9975\n",
            "Epoch 40/100\n",
            "1/1 [==============================] - 0s 26ms/step - loss: 44874.9219 - mse: 2128848896.0000 - mae: 44874.9219 - mape: 99.9976 - val_loss: 42654.5195 - val_mse: 1933509760.0000 - val_mae: 42654.5195 - val_mape: 99.9975\n",
            "Epoch 41/100\n",
            "1/1 [==============================] - 0s 19ms/step - loss: 44874.9219 - mse: 2128848896.0000 - mae: 44874.9219 - mape: 99.9976 - val_loss: 42654.5195 - val_mse: 1933509760.0000 - val_mae: 42654.5195 - val_mape: 99.9975\n",
            "Epoch 42/100\n",
            "1/1 [==============================] - 0s 20ms/step - loss: 44874.9219 - mse: 2128849152.0000 - mae: 44874.9219 - mape: 99.9976 - val_loss: 42654.5195 - val_mse: 1933509760.0000 - val_mae: 42654.5195 - val_mape: 99.9975\n",
            "Epoch 43/100\n",
            "1/1 [==============================] - 0s 20ms/step - loss: 44874.9219 - mse: 2128848768.0000 - mae: 44874.9219 - mape: 99.9976 - val_loss: 42654.5195 - val_mse: 1933509760.0000 - val_mae: 42654.5195 - val_mape: 99.9975\n",
            "Epoch 44/100\n",
            "1/1 [==============================] - 0s 19ms/step - loss: 44874.9219 - mse: 2128848896.0000 - mae: 44874.9219 - mape: 99.9976 - val_loss: 42654.5195 - val_mse: 1933509760.0000 - val_mae: 42654.5195 - val_mape: 99.9975\n",
            "Epoch 45/100\n",
            "1/1 [==============================] - 0s 20ms/step - loss: 44874.9219 - mse: 2128848896.0000 - mae: 44874.9219 - mape: 99.9976 - val_loss: 42654.5195 - val_mse: 1933509760.0000 - val_mae: 42654.5195 - val_mape: 99.9975\n",
            "Epoch 46/100\n",
            "1/1 [==============================] - 0s 22ms/step - loss: 44874.9219 - mse: 2128848896.0000 - mae: 44874.9219 - mape: 99.9976 - val_loss: 42654.5195 - val_mse: 1933509760.0000 - val_mae: 42654.5195 - val_mape: 99.9975\n",
            "Epoch 47/100\n",
            "1/1 [==============================] - 0s 25ms/step - loss: 44874.9258 - mse: 2128848896.0000 - mae: 44874.9258 - mape: 99.9976 - val_loss: 42654.5195 - val_mse: 1933509760.0000 - val_mae: 42654.5195 - val_mape: 99.9975\n",
            "Epoch 48/100\n",
            "1/1 [==============================] - 0s 29ms/step - loss: 44874.9219 - mse: 2128848896.0000 - mae: 44874.9219 - mape: 99.9976 - val_loss: 42654.5195 - val_mse: 1933509760.0000 - val_mae: 42654.5195 - val_mape: 99.9975\n",
            "Epoch 49/100\n",
            "1/1 [==============================] - 0s 22ms/step - loss: 44874.9219 - mse: 2128848896.0000 - mae: 44874.9219 - mape: 99.9976 - val_loss: 42654.5195 - val_mse: 1933509760.0000 - val_mae: 42654.5195 - val_mape: 99.9975\n",
            "Epoch 50/100\n",
            "1/1 [==============================] - 0s 22ms/step - loss: 44874.9219 - mse: 2128848896.0000 - mae: 44874.9219 - mape: 99.9976 - val_loss: 42654.5195 - val_mse: 1933509760.0000 - val_mae: 42654.5195 - val_mape: 99.9975\n",
            "Epoch 51/100\n",
            "1/1 [==============================] - 0s 19ms/step - loss: 44874.9219 - mse: 2128848896.0000 - mae: 44874.9219 - mape: 99.9976 - val_loss: 42654.5195 - val_mse: 1933509760.0000 - val_mae: 42654.5195 - val_mape: 99.9975\n",
            "Epoch 52/100\n",
            "1/1 [==============================] - 0s 21ms/step - loss: 44874.9219 - mse: 2128848896.0000 - mae: 44874.9219 - mape: 99.9976 - val_loss: 42654.5195 - val_mse: 1933509760.0000 - val_mae: 42654.5195 - val_mape: 99.9975\n",
            "Epoch 53/100\n",
            "1/1 [==============================] - 0s 20ms/step - loss: 44874.9219 - mse: 2128848768.0000 - mae: 44874.9219 - mape: 99.9976 - val_loss: 42654.5195 - val_mse: 1933509760.0000 - val_mae: 42654.5195 - val_mape: 99.9975\n",
            "Epoch 54/100\n",
            "1/1 [==============================] - 0s 21ms/step - loss: 44874.9219 - mse: 2128848896.0000 - mae: 44874.9219 - mape: 99.9976 - val_loss: 42654.5195 - val_mse: 1933509760.0000 - val_mae: 42654.5195 - val_mape: 99.9975\n",
            "Epoch 55/100\n",
            "1/1 [==============================] - 0s 20ms/step - loss: 44874.9219 - mse: 2128848768.0000 - mae: 44874.9219 - mape: 99.9976 - val_loss: 42654.5195 - val_mse: 1933509760.0000 - val_mae: 42654.5195 - val_mape: 99.9975\n",
            "Epoch 56/100\n",
            "1/1 [==============================] - 0s 20ms/step - loss: 44874.9219 - mse: 2128848896.0000 - mae: 44874.9219 - mape: 99.9976 - val_loss: 42654.5195 - val_mse: 1933509760.0000 - val_mae: 42654.5195 - val_mape: 99.9975\n",
            "Epoch 57/100\n",
            "1/1 [==============================] - 0s 23ms/step - loss: 44874.9219 - mse: 2128848896.0000 - mae: 44874.9219 - mape: 99.9976 - val_loss: 42654.5195 - val_mse: 1933509760.0000 - val_mae: 42654.5195 - val_mape: 99.9975\n",
            "Epoch 58/100\n",
            "1/1 [==============================] - 0s 22ms/step - loss: 44874.9219 - mse: 2128848896.0000 - mae: 44874.9219 - mape: 99.9976 - val_loss: 42654.5195 - val_mse: 1933509760.0000 - val_mae: 42654.5195 - val_mape: 99.9975\n",
            "Epoch 59/100\n",
            "1/1 [==============================] - 0s 21ms/step - loss: 44874.9219 - mse: 2128848896.0000 - mae: 44874.9219 - mape: 99.9976 - val_loss: 42654.5195 - val_mse: 1933509760.0000 - val_mae: 42654.5195 - val_mape: 99.9975\n",
            "Epoch 60/100\n",
            "1/1 [==============================] - 0s 20ms/step - loss: 44874.9219 - mse: 2128848768.0000 - mae: 44874.9219 - mape: 99.9976 - val_loss: 42654.5195 - val_mse: 1933509760.0000 - val_mae: 42654.5195 - val_mape: 99.9975\n",
            "Epoch 61/100\n",
            "1/1 [==============================] - 0s 20ms/step - loss: 44874.9219 - mse: 2128848896.0000 - mae: 44874.9219 - mape: 99.9976 - val_loss: 42654.5195 - val_mse: 1933509760.0000 - val_mae: 42654.5195 - val_mape: 99.9975\n",
            "Epoch 62/100\n",
            "1/1 [==============================] - 0s 21ms/step - loss: 44874.9219 - mse: 2128848768.0000 - mae: 44874.9219 - mape: 99.9976 - val_loss: 42654.5195 - val_mse: 1933509760.0000 - val_mae: 42654.5195 - val_mape: 99.9975\n",
            "Epoch 63/100\n",
            "1/1 [==============================] - 0s 19ms/step - loss: 44874.9180 - mse: 2128848896.0000 - mae: 44874.9180 - mape: 99.9976 - val_loss: 42654.5195 - val_mse: 1933509760.0000 - val_mae: 42654.5195 - val_mape: 99.9975\n",
            "Epoch 64/100\n",
            "1/1 [==============================] - 0s 23ms/step - loss: 44874.9219 - mse: 2128848896.0000 - mae: 44874.9219 - mape: 99.9976 - val_loss: 42654.5195 - val_mse: 1933509760.0000 - val_mae: 42654.5195 - val_mape: 99.9975\n",
            "Epoch 65/100\n",
            "1/1 [==============================] - 0s 20ms/step - loss: 44874.9180 - mse: 2128848896.0000 - mae: 44874.9180 - mape: 99.9976 - val_loss: 42654.5195 - val_mse: 1933509760.0000 - val_mae: 42654.5195 - val_mape: 99.9975\n",
            "Epoch 66/100\n",
            "1/1 [==============================] - 0s 24ms/step - loss: 44874.9219 - mse: 2128849152.0000 - mae: 44874.9219 - mape: 99.9976 - val_loss: 42654.5195 - val_mse: 1933509760.0000 - val_mae: 42654.5195 - val_mape: 99.9975\n",
            "Epoch 67/100\n",
            "1/1 [==============================] - 0s 31ms/step - loss: 44874.9219 - mse: 2128848768.0000 - mae: 44874.9219 - mape: 99.9976 - val_loss: 42654.5195 - val_mse: 1933509760.0000 - val_mae: 42654.5195 - val_mape: 99.9975\n",
            "Epoch 68/100\n",
            "1/1 [==============================] - 0s 22ms/step - loss: 44874.9219 - mse: 2128848896.0000 - mae: 44874.9219 - mape: 99.9976 - val_loss: 42654.5195 - val_mse: 1933509760.0000 - val_mae: 42654.5195 - val_mape: 99.9975\n",
            "Epoch 69/100\n",
            "1/1 [==============================] - 0s 24ms/step - loss: 44874.9219 - mse: 2128848768.0000 - mae: 44874.9219 - mape: 99.9976 - val_loss: 42654.5195 - val_mse: 1933509760.0000 - val_mae: 42654.5195 - val_mape: 99.9975\n",
            "Epoch 70/100\n",
            "1/1 [==============================] - 0s 22ms/step - loss: 44874.9219 - mse: 2128848896.0000 - mae: 44874.9219 - mape: 99.9976 - val_loss: 42654.5195 - val_mse: 1933509760.0000 - val_mae: 42654.5195 - val_mape: 99.9975\n",
            "Epoch 71/100\n",
            "1/1 [==============================] - 0s 23ms/step - loss: 44874.9219 - mse: 2128848768.0000 - mae: 44874.9219 - mape: 99.9976 - val_loss: 42654.5195 - val_mse: 1933509760.0000 - val_mae: 42654.5195 - val_mape: 99.9975\n",
            "Epoch 72/100\n",
            "1/1 [==============================] - 0s 23ms/step - loss: 44874.9219 - mse: 2128848896.0000 - mae: 44874.9219 - mape: 99.9976 - val_loss: 42654.5195 - val_mse: 1933509760.0000 - val_mae: 42654.5195 - val_mape: 99.9975\n",
            "Epoch 73/100\n",
            "1/1 [==============================] - 0s 25ms/step - loss: 44874.9219 - mse: 2128848896.0000 - mae: 44874.9219 - mape: 99.9976 - val_loss: 42654.5195 - val_mse: 1933509760.0000 - val_mae: 42654.5195 - val_mape: 99.9975\n",
            "Epoch 74/100\n",
            "1/1 [==============================] - 0s 28ms/step - loss: 44874.9219 - mse: 2128848896.0000 - mae: 44874.9219 - mape: 99.9976 - val_loss: 42654.5195 - val_mse: 1933509760.0000 - val_mae: 42654.5195 - val_mape: 99.9975\n",
            "Epoch 75/100\n",
            "1/1 [==============================] - 0s 21ms/step - loss: 44874.9219 - mse: 2128848896.0000 - mae: 44874.9219 - mape: 99.9976 - val_loss: 42654.5195 - val_mse: 1933509760.0000 - val_mae: 42654.5195 - val_mape: 99.9975\n",
            "Epoch 76/100\n",
            "1/1 [==============================] - 0s 20ms/step - loss: 44874.9219 - mse: 2128848896.0000 - mae: 44874.9219 - mape: 99.9976 - val_loss: 42654.5195 - val_mse: 1933509760.0000 - val_mae: 42654.5195 - val_mape: 99.9975\n",
            "Epoch 77/100\n",
            "1/1 [==============================] - 0s 20ms/step - loss: 44874.9219 - mse: 2128848768.0000 - mae: 44874.9219 - mape: 99.9976 - val_loss: 42654.5195 - val_mse: 1933509760.0000 - val_mae: 42654.5195 - val_mape: 99.9975\n",
            "Epoch 78/100\n",
            "1/1 [==============================] - 0s 20ms/step - loss: 44874.9219 - mse: 2128848896.0000 - mae: 44874.9219 - mape: 99.9976 - val_loss: 42654.5195 - val_mse: 1933509760.0000 - val_mae: 42654.5195 - val_mape: 99.9975\n",
            "Epoch 79/100\n",
            "1/1 [==============================] - 0s 24ms/step - loss: 44874.9219 - mse: 2128848896.0000 - mae: 44874.9219 - mape: 99.9976 - val_loss: 42654.5195 - val_mse: 1933509760.0000 - val_mae: 42654.5195 - val_mape: 99.9975\n",
            "Epoch 80/100\n",
            "1/1 [==============================] - 0s 24ms/step - loss: 44874.9219 - mse: 2128848768.0000 - mae: 44874.9219 - mape: 99.9976 - val_loss: 42654.5195 - val_mse: 1933509760.0000 - val_mae: 42654.5195 - val_mape: 99.9975\n",
            "Epoch 81/100\n",
            "1/1 [==============================] - 0s 22ms/step - loss: 44874.9219 - mse: 2128848768.0000 - mae: 44874.9219 - mape: 99.9976 - val_loss: 42654.5195 - val_mse: 1933509760.0000 - val_mae: 42654.5195 - val_mape: 99.9975\n",
            "Epoch 82/100\n",
            "1/1 [==============================] - 0s 21ms/step - loss: 44874.9219 - mse: 2128848896.0000 - mae: 44874.9219 - mape: 99.9976 - val_loss: 42654.5195 - val_mse: 1933509760.0000 - val_mae: 42654.5195 - val_mape: 99.9975\n",
            "Epoch 83/100\n",
            "1/1 [==============================] - 0s 23ms/step - loss: 44874.9219 - mse: 2128848896.0000 - mae: 44874.9219 - mape: 99.9976 - val_loss: 42654.5195 - val_mse: 1933509760.0000 - val_mae: 42654.5195 - val_mape: 99.9975\n",
            "Epoch 84/100\n",
            "1/1 [==============================] - 0s 22ms/step - loss: 44874.9219 - mse: 2128848768.0000 - mae: 44874.9219 - mape: 99.9976 - val_loss: 42654.5195 - val_mse: 1933509760.0000 - val_mae: 42654.5195 - val_mape: 99.9975\n",
            "Epoch 85/100\n",
            "1/1 [==============================] - 0s 28ms/step - loss: 44874.9219 - mse: 2128848896.0000 - mae: 44874.9219 - mape: 99.9976 - val_loss: 42654.5195 - val_mse: 1933509760.0000 - val_mae: 42654.5195 - val_mape: 99.9975\n",
            "Epoch 86/100\n",
            "1/1 [==============================] - 0s 21ms/step - loss: 44874.9219 - mse: 2128848896.0000 - mae: 44874.9219 - mape: 99.9976 - val_loss: 42654.5195 - val_mse: 1933509760.0000 - val_mae: 42654.5195 - val_mape: 99.9975\n",
            "Epoch 87/100\n",
            "1/1 [==============================] - 0s 26ms/step - loss: 44874.9219 - mse: 2128848896.0000 - mae: 44874.9219 - mape: 99.9976 - val_loss: 42654.5195 - val_mse: 1933509760.0000 - val_mae: 42654.5195 - val_mape: 99.9975\n",
            "Epoch 88/100\n",
            "1/1 [==============================] - 0s 20ms/step - loss: 44874.9219 - mse: 2128848896.0000 - mae: 44874.9219 - mape: 99.9976 - val_loss: 42654.5195 - val_mse: 1933509760.0000 - val_mae: 42654.5195 - val_mape: 99.9975\n",
            "Epoch 89/100\n",
            "1/1 [==============================] - 0s 22ms/step - loss: 44874.9219 - mse: 2128848896.0000 - mae: 44874.9219 - mape: 99.9976 - val_loss: 42654.5195 - val_mse: 1933509760.0000 - val_mae: 42654.5195 - val_mape: 99.9975\n",
            "Epoch 90/100\n",
            "1/1 [==============================] - 0s 22ms/step - loss: 44874.9219 - mse: 2128848896.0000 - mae: 44874.9219 - mape: 99.9976 - val_loss: 42654.5195 - val_mse: 1933509760.0000 - val_mae: 42654.5195 - val_mape: 99.9975\n",
            "Epoch 91/100\n",
            "1/1 [==============================] - 0s 22ms/step - loss: 44874.9180 - mse: 2128848896.0000 - mae: 44874.9180 - mape: 99.9976 - val_loss: 42654.5195 - val_mse: 1933509760.0000 - val_mae: 42654.5195 - val_mape: 99.9975\n",
            "Epoch 92/100\n",
            "1/1 [==============================] - 0s 28ms/step - loss: 44874.9219 - mse: 2128848768.0000 - mae: 44874.9219 - mape: 99.9976 - val_loss: 42654.5195 - val_mse: 1933509760.0000 - val_mae: 42654.5195 - val_mape: 99.9975\n",
            "Epoch 93/100\n",
            "1/1 [==============================] - 0s 21ms/step - loss: 44874.9219 - mse: 2128848896.0000 - mae: 44874.9219 - mape: 99.9976 - val_loss: 42654.5195 - val_mse: 1933509760.0000 - val_mae: 42654.5195 - val_mape: 99.9975\n",
            "Epoch 94/100\n",
            "1/1 [==============================] - 0s 20ms/step - loss: 44874.9219 - mse: 2128848896.0000 - mae: 44874.9219 - mape: 99.9976 - val_loss: 42654.5195 - val_mse: 1933509760.0000 - val_mae: 42654.5195 - val_mape: 99.9975\n",
            "Epoch 95/100\n",
            "1/1 [==============================] - 0s 21ms/step - loss: 44874.9219 - mse: 2128848896.0000 - mae: 44874.9219 - mape: 99.9976 - val_loss: 42654.5195 - val_mse: 1933509760.0000 - val_mae: 42654.5195 - val_mape: 99.9975\n",
            "Epoch 96/100\n",
            "1/1 [==============================] - 0s 20ms/step - loss: 44874.9180 - mse: 2128848896.0000 - mae: 44874.9180 - mape: 99.9976 - val_loss: 42654.5195 - val_mse: 1933509760.0000 - val_mae: 42654.5195 - val_mape: 99.9975\n",
            "Epoch 97/100\n",
            "1/1 [==============================] - 0s 22ms/step - loss: 44874.9219 - mse: 2128848896.0000 - mae: 44874.9219 - mape: 99.9976 - val_loss: 42654.5195 - val_mse: 1933509760.0000 - val_mae: 42654.5195 - val_mape: 99.9975\n",
            "Epoch 98/100\n",
            "1/1 [==============================] - 0s 20ms/step - loss: 44874.9219 - mse: 2128848768.0000 - mae: 44874.9219 - mape: 99.9976 - val_loss: 42654.5195 - val_mse: 1933509760.0000 - val_mae: 42654.5195 - val_mape: 99.9975\n",
            "Epoch 99/100\n",
            "1/1 [==============================] - 0s 24ms/step - loss: 44874.9219 - mse: 2128848896.0000 - mae: 44874.9219 - mape: 99.9976 - val_loss: 42654.5195 - val_mse: 1933509760.0000 - val_mae: 42654.5195 - val_mape: 99.9975\n",
            "Epoch 100/100\n",
            "1/1 [==============================] - 0s 22ms/step - loss: 44874.9219 - mse: 2128848896.0000 - mae: 44874.9219 - mape: 99.9976 - val_loss: 42654.5195 - val_mse: 1933509760.0000 - val_mae: 42654.5195 - val_mape: 99.9975\n"
          ],
          "name": "stdout"
        }
      ]
    },
    {
      "cell_type": "code",
      "metadata": {
        "id": "afin2liaDS98"
      },
      "source": [
        "# Part 3 — Making the predictions and evaluating the model\n",
        "\n",
        "y_pred = classifier.predict(X_val)"
      ],
      "execution_count": 31,
      "outputs": []
    },
    {
      "cell_type": "code",
      "metadata": {
        "id": "k6FeC7WcDuHw",
        "outputId": "a8f2f9ed-3f2e-47bd-93c0-a5f1ddc47d5c",
        "colab": {
          "base_uri": "https://localhost:8080/"
        }
      },
      "source": [
        "y_pred"
      ],
      "execution_count": 32,
      "outputs": [
        {
          "output_type": "execute_result",
          "data": {
            "text/plain": [
              "array([[0.9999983 ],\n",
              "       [1.        ],\n",
              "       [1.        ],\n",
              "       [0.9999993 ],\n",
              "       [0.99999976],\n",
              "       [0.99999857],\n",
              "       [1.        ],\n",
              "       [0.99999917],\n",
              "       [0.9999995 ],\n",
              "       [0.9999995 ],\n",
              "       [0.9999597 ],\n",
              "       [1.        ],\n",
              "       [0.999997  ],\n",
              "       [1.        ],\n",
              "       [0.99999857],\n",
              "       [0.9999997 ],\n",
              "       [1.        ],\n",
              "       [1.        ],\n",
              "       [0.9999999 ],\n",
              "       [0.9999983 ],\n",
              "       [0.99999714],\n",
              "       [0.99999964],\n",
              "       [0.99999964],\n",
              "       [1.        ],\n",
              "       [1.        ],\n",
              "       [0.99999505],\n",
              "       [0.999997  ],\n",
              "       [0.99999905],\n",
              "       [1.        ],\n",
              "       [0.99999523],\n",
              "       [1.        ],\n",
              "       [1.        ],\n",
              "       [0.99997723],\n",
              "       [0.9999995 ],\n",
              "       [1.        ],\n",
              "       [0.99999595],\n",
              "       [0.9999998 ],\n",
              "       [0.99999833],\n",
              "       [0.9999976 ],\n",
              "       [1.        ],\n",
              "       [0.99999434],\n",
              "       [0.99999976],\n",
              "       [0.99999845],\n",
              "       [0.99999523],\n",
              "       [1.        ],\n",
              "       [0.999999  ],\n",
              "       [0.9999968 ],\n",
              "       [1.        ],\n",
              "       [0.999997  ],\n",
              "       [1.        ],\n",
              "       [0.99999183],\n",
              "       [0.99999166],\n",
              "       [0.99998266],\n",
              "       [1.        ],\n",
              "       [0.9999987 ],\n",
              "       [0.9999987 ],\n",
              "       [0.9999989 ],\n",
              "       [0.9999995 ],\n",
              "       [0.9999994 ],\n",
              "       [0.99999595],\n",
              "       [0.99999964],\n",
              "       [0.9999995 ],\n",
              "       [0.9999975 ],\n",
              "       [0.9999956 ],\n",
              "       [0.9999998 ],\n",
              "       [1.        ],\n",
              "       [1.        ],\n",
              "       [0.9999999 ],\n",
              "       [1.        ],\n",
              "       [0.99999917],\n",
              "       [0.9999968 ],\n",
              "       [0.9999987 ],\n",
              "       [0.9999885 ],\n",
              "       [0.99999964],\n",
              "       [0.99999917],\n",
              "       [0.9999996 ],\n",
              "       [0.9999955 ],\n",
              "       [0.9999977 ],\n",
              "       [1.        ],\n",
              "       [1.        ],\n",
              "       [1.        ],\n",
              "       [0.99999964],\n",
              "       [0.9999979 ],\n",
              "       [0.9998557 ],\n",
              "       [0.99999833],\n",
              "       [1.        ],\n",
              "       [0.99999917],\n",
              "       [0.999987  ],\n",
              "       [1.        ],\n",
              "       [0.9999988 ],\n",
              "       [0.99999976],\n",
              "       [0.99999833],\n",
              "       [0.9999995 ],\n",
              "       [0.99999684],\n",
              "       [0.9999986 ],\n",
              "       [0.9999995 ],\n",
              "       [1.        ],\n",
              "       [0.9999934 ],\n",
              "       [0.99999905],\n",
              "       [0.99999595],\n",
              "       [0.9999902 ],\n",
              "       [0.99999964],\n",
              "       [0.9999994 ],\n",
              "       [1.        ],\n",
              "       [0.9999993 ],\n",
              "       [0.9999968 ],\n",
              "       [0.99997187],\n",
              "       [0.9999989 ],\n",
              "       [1.        ],\n",
              "       [0.99999046],\n",
              "       [0.9999949 ],\n",
              "       [1.        ],\n",
              "       [1.        ],\n",
              "       [0.9999995 ],\n",
              "       [0.9999981 ],\n",
              "       [0.9999999 ],\n",
              "       [0.9999995 ],\n",
              "       [0.9999995 ],\n",
              "       [0.99999833],\n",
              "       [0.99997866],\n",
              "       [0.99999774],\n",
              "       [0.99998987],\n",
              "       [0.99999934],\n",
              "       [1.        ],\n",
              "       [1.        ],\n",
              "       [0.99999917],\n",
              "       [0.9999255 ],\n",
              "       [0.9999993 ],\n",
              "       [0.9999971 ],\n",
              "       [0.9999976 ],\n",
              "       [0.9999933 ],\n",
              "       [0.9999985 ],\n",
              "       [0.9999634 ],\n",
              "       [0.999998  ],\n",
              "       [0.9999994 ],\n",
              "       [0.9999994 ],\n",
              "       [0.9999997 ],\n",
              "       [1.        ],\n",
              "       [0.9999987 ],\n",
              "       [1.        ],\n",
              "       [1.        ],\n",
              "       [0.99994266],\n",
              "       [0.99999905],\n",
              "       [1.        ],\n",
              "       [0.99999905],\n",
              "       [0.9999988 ],\n",
              "       [0.9999905 ],\n",
              "       [1.        ],\n",
              "       [0.99999475],\n",
              "       [0.99998957]], dtype=float32)"
            ]
          },
          "metadata": {
            "tags": []
          },
          "execution_count": 32
        }
      ]
    },
    {
      "cell_type": "code",
      "metadata": {
        "id": "iEIri4z6DyYt",
        "outputId": "acd7b5e0-b172-4a36-fe80-5652dcfef465",
        "colab": {
          "base_uri": "https://localhost:8080/",
          "height": 276
        }
      },
      "source": [
        "import pandas as pd\n",
        "\n",
        "# convert the training history to a dataframe\n",
        "history_df = pd.DataFrame(history.history)\n",
        "# use Pandas native plot method\n",
        "history_df['loss'].plot();"
      ],
      "execution_count": 35,
      "outputs": [
        {
          "output_type": "display_data",
          "data": {
            "image/png": "[encoded data removed]",
            "text/plain": [
              "<Figure size 432x288 with 1 Axes>"
            ]
          },
          "metadata": {
            "tags": [],
            "needs_background": "light"
          }
        }
      ]
    },
    {
      "cell_type": "code",
      "metadata": {
        "id": "-3CohKXZD4Gp",
        "outputId": "38faf4cb-ddd1-46a4-a59f-f52ea9d71fff",
        "colab": {
          "base_uri": "https://localhost:8080/"
        }
      },
      "source": [
        "classifier.evaluate(X_val, Y_val)"
      ],
      "execution_count": 37,
      "outputs": [
        {
          "output_type": "stream",
          "text": [
            "5/5 [==============================] - 0s 2ms/step - loss: 42654.5156 - mse: 1933509888.0000 - mae: 42654.5156 - mape: 99.9975\n"
          ],
          "name": "stdout"
        },
        {
          "output_type": "execute_result",
          "data": {
            "text/plain": [
              "[42654.515625, 1933509888.0, 42654.515625, 99.99748229980469]"
            ]
          },
          "metadata": {
            "tags": []
          },
          "execution_count": 37
        }
      ]
    },
    {
      "cell_type": "code",
      "metadata": {
        "id": "WDe7STtNGDTQ"
      },
      "source": [
        ""
      ],
      "execution_count": null,
      "outputs": []
    }
  ]
}