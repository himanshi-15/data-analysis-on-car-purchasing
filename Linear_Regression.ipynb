{
  "nbformat": 4,
  "nbformat_minor": 0,
  "metadata": {
    "colab": {
      "name": "Linear Regression",
      "provenance": [],
      "collapsed_sections": []
    },
    "kernelspec": {
      "name": "python3",
      "display_name": "Python 3"
    }
  },
  "cells": [
    {
      "cell_type": "code",
      "metadata": {
        "id": "PJp7tNlVDgRD"
      },
      "source": [
        "import tensorflow"
      ],
      "execution_count": 261,
      "outputs": []
    },
    {
      "cell_type": "code",
      "metadata": {
        "id": "AOMvdDXpDkji"
      },
      "source": [
        "import pandas as pd"
      ],
      "execution_count": 262,
      "outputs": []
    },
    {
      "cell_type": "code",
      "metadata": {
        "id": "4mTH0FW0EBzk",
        "outputId": "8d8cd32a-0bbf-4d13-d795-ef132162dac8",
        "colab": {
          "base_uri": "https://localhost:8080/"
        }
      },
      "source": [
        "file = r'Car_Purchasing_Data.csv'\n",
        "df = pd.read_csv (file,sep=',',encoding=\"ISO-8859-1\")\n",
        "print (df)"
      ],
      "execution_count": 263,
      "outputs": [
        {
          "output_type": "stream",
          "text": [
            "       Customer Name  ... Car Purchase Amount\n",
            "0      Martina Avila  ...         35321.45877\n",
            "1      Harlan Barnes  ...         45115.52566\n",
            "2    Naomi Rodriquez  ...         42925.70921\n",
            "3    Jade Cunningham  ...         67422.36313\n",
            "4       Cedric Leach  ...         55915.46248\n",
            "..               ...  ...                 ...\n",
            "495           Walter  ...         48901.44342\n",
            "496            Vanna  ...         31491.41457\n",
            "497            Pearl  ...         64147.28888\n",
            "498             Nell  ...         45442.15353\n",
            "499            Marla  ...         45107.22566\n",
            "\n",
            "[500 rows x 9 columns]\n"
          ],
          "name": "stdout"
        }
      ]
    },
    {
      "cell_type": "code",
      "metadata": {
        "id": "zbe3bTN2EkdE",
        "outputId": "fe507727-18a4-49b9-f767-48ca1a08ec56",
        "colab": {
          "base_uri": "https://localhost:8080/",
          "height": 300
        }
      },
      "source": [
        "df.describe()"
      ],
      "execution_count": 264,
      "outputs": [
        {
          "output_type": "execute_result",
          "data": {
            "text/html": [
              "<div>\n",
              "<style scoped>\n",
              "    .dataframe tbody tr th:only-of-type {\n",
              "        vertical-align: middle;\n",
              "    }\n",
              "\n",
              "    .dataframe tbody tr th {\n",
              "        vertical-align: top;\n",
              "    }\n",
              "\n",
              "    .dataframe thead th {\n",
              "        text-align: right;\n",
              "    }\n",
              "</style>\n",
              "<table border=\"1\" class=\"dataframe\">\n",
              "  <thead>\n",
              "    <tr style=\"text-align: right;\">\n",
              "      <th></th>\n",
              "      <th>Gender</th>\n",
              "      <th>Age</th>\n",
              "      <th>Annual Salary</th>\n",
              "      <th>Credit Card Debt</th>\n",
              "      <th>Net Worth</th>\n",
              "      <th>Car Purchase Amount</th>\n",
              "    </tr>\n",
              "  </thead>\n",
              "  <tbody>\n",
              "    <tr>\n",
              "      <th>count</th>\n",
              "      <td>500.000000</td>\n",
              "      <td>500.000000</td>\n",
              "      <td>500.000000</td>\n",
              "      <td>500.000000</td>\n",
              "      <td>500.000000</td>\n",
              "      <td>500.000000</td>\n",
              "    </tr>\n",
              "    <tr>\n",
              "      <th>mean</th>\n",
              "      <td>0.506000</td>\n",
              "      <td>46.241674</td>\n",
              "      <td>62127.239608</td>\n",
              "      <td>9607.645049</td>\n",
              "      <td>431475.713625</td>\n",
              "      <td>44209.799218</td>\n",
              "    </tr>\n",
              "    <tr>\n",
              "      <th>std</th>\n",
              "      <td>0.500465</td>\n",
              "      <td>7.978862</td>\n",
              "      <td>11703.378228</td>\n",
              "      <td>3489.187973</td>\n",
              "      <td>173536.756340</td>\n",
              "      <td>10773.178744</td>\n",
              "    </tr>\n",
              "    <tr>\n",
              "      <th>min</th>\n",
              "      <td>0.000000</td>\n",
              "      <td>20.000000</td>\n",
              "      <td>20000.000000</td>\n",
              "      <td>100.000000</td>\n",
              "      <td>20000.000000</td>\n",
              "      <td>9000.000000</td>\n",
              "    </tr>\n",
              "    <tr>\n",
              "      <th>25%</th>\n",
              "      <td>0.000000</td>\n",
              "      <td>40.949969</td>\n",
              "      <td>54391.977195</td>\n",
              "      <td>7397.515792</td>\n",
              "      <td>299824.195900</td>\n",
              "      <td>37629.896040</td>\n",
              "    </tr>\n",
              "    <tr>\n",
              "      <th>50%</th>\n",
              "      <td>1.000000</td>\n",
              "      <td>46.049901</td>\n",
              "      <td>62915.497035</td>\n",
              "      <td>9655.035568</td>\n",
              "      <td>426750.120650</td>\n",
              "      <td>43997.783390</td>\n",
              "    </tr>\n",
              "    <tr>\n",
              "      <th>75%</th>\n",
              "      <td>1.000000</td>\n",
              "      <td>51.612263</td>\n",
              "      <td>70117.862005</td>\n",
              "      <td>11798.867487</td>\n",
              "      <td>557324.478725</td>\n",
              "      <td>51254.709517</td>\n",
              "    </tr>\n",
              "    <tr>\n",
              "      <th>max</th>\n",
              "      <td>1.000000</td>\n",
              "      <td>70.000000</td>\n",
              "      <td>100000.000000</td>\n",
              "      <td>20000.000000</td>\n",
              "      <td>1000000.000000</td>\n",
              "      <td>80000.000000</td>\n",
              "    </tr>\n",
              "  </tbody>\n",
              "</table>\n",
              "</div>"
            ],
            "text/plain": [
              "           Gender         Age  ...       Net Worth  Car Purchase Amount\n",
              "count  500.000000  500.000000  ...      500.000000           500.000000\n",
              "mean     0.506000   46.241674  ...   431475.713625         44209.799218\n",
              "std      0.500465    7.978862  ...   173536.756340         10773.178744\n",
              "min      0.000000   20.000000  ...    20000.000000          9000.000000\n",
              "25%      0.000000   40.949969  ...   299824.195900         37629.896040\n",
              "50%      1.000000   46.049901  ...   426750.120650         43997.783390\n",
              "75%      1.000000   51.612263  ...   557324.478725         51254.709517\n",
              "max      1.000000   70.000000  ...  1000000.000000         80000.000000\n",
              "\n",
              "[8 rows x 6 columns]"
            ]
          },
          "metadata": {
            "tags": []
          },
          "execution_count": 264
        }
      ]
    },
    {
      "cell_type": "code",
      "metadata": {
        "id": "pps2MKJiEoh5"
      },
      "source": [
        "y=df['Car Purchase Amount']"
      ],
      "execution_count": 265,
      "outputs": []
    },
    {
      "cell_type": "code",
      "metadata": {
        "id": "rKGKeVkvEr26"
      },
      "source": [
        "data=['Gender','Age','Annual Salary','Credit Card Debt','Net Worth']"
      ],
      "execution_count": 266,
      "outputs": []
    },
    {
      "cell_type": "code",
      "metadata": {
        "id": "7xCYLv3ZEubR"
      },
      "source": [
        "X=df[data]"
      ],
      "execution_count": 267,
      "outputs": []
    },
    {
      "cell_type": "code",
      "metadata": {
        "id": "79GVDBN7EwUd",
        "outputId": "c4888a9a-0aef-4b25-cb50-51bca3a90480",
        "colab": {
          "base_uri": "https://localhost:8080/",
          "height": 300
        }
      },
      "source": [
        "X.describe()"
      ],
      "execution_count": 268,
      "outputs": [
        {
          "output_type": "execute_result",
          "data": {
            "text/html": [
              "<div>\n",
              "<style scoped>\n",
              "    .dataframe tbody tr th:only-of-type {\n",
              "        vertical-align: middle;\n",
              "    }\n",
              "\n",
              "    .dataframe tbody tr th {\n",
              "        vertical-align: top;\n",
              "    }\n",
              "\n",
              "    .dataframe thead th {\n",
              "        text-align: right;\n",
              "    }\n",
              "</style>\n",
              "<table border=\"1\" class=\"dataframe\">\n",
              "  <thead>\n",
              "    <tr style=\"text-align: right;\">\n",
              "      <th></th>\n",
              "      <th>Gender</th>\n",
              "      <th>Age</th>\n",
              "      <th>Annual Salary</th>\n",
              "      <th>Credit Card Debt</th>\n",
              "      <th>Net Worth</th>\n",
              "    </tr>\n",
              "  </thead>\n",
              "  <tbody>\n",
              "    <tr>\n",
              "      <th>count</th>\n",
              "      <td>500.000000</td>\n",
              "      <td>500.000000</td>\n",
              "      <td>500.000000</td>\n",
              "      <td>500.000000</td>\n",
              "      <td>500.000000</td>\n",
              "    </tr>\n",
              "    <tr>\n",
              "      <th>mean</th>\n",
              "      <td>0.506000</td>\n",
              "      <td>46.241674</td>\n",
              "      <td>62127.239608</td>\n",
              "      <td>9607.645049</td>\n",
              "      <td>431475.713625</td>\n",
              "    </tr>\n",
              "    <tr>\n",
              "      <th>std</th>\n",
              "      <td>0.500465</td>\n",
              "      <td>7.978862</td>\n",
              "      <td>11703.378228</td>\n",
              "      <td>3489.187973</td>\n",
              "      <td>173536.756340</td>\n",
              "    </tr>\n",
              "    <tr>\n",
              "      <th>min</th>\n",
              "      <td>0.000000</td>\n",
              "      <td>20.000000</td>\n",
              "      <td>20000.000000</td>\n",
              "      <td>100.000000</td>\n",
              "      <td>20000.000000</td>\n",
              "    </tr>\n",
              "    <tr>\n",
              "      <th>25%</th>\n",
              "      <td>0.000000</td>\n",
              "      <td>40.949969</td>\n",
              "      <td>54391.977195</td>\n",
              "      <td>7397.515792</td>\n",
              "      <td>299824.195900</td>\n",
              "    </tr>\n",
              "    <tr>\n",
              "      <th>50%</th>\n",
              "      <td>1.000000</td>\n",
              "      <td>46.049901</td>\n",
              "      <td>62915.497035</td>\n",
              "      <td>9655.035568</td>\n",
              "      <td>426750.120650</td>\n",
              "    </tr>\n",
              "    <tr>\n",
              "      <th>75%</th>\n",
              "      <td>1.000000</td>\n",
              "      <td>51.612263</td>\n",
              "      <td>70117.862005</td>\n",
              "      <td>11798.867487</td>\n",
              "      <td>557324.478725</td>\n",
              "    </tr>\n",
              "    <tr>\n",
              "      <th>max</th>\n",
              "      <td>1.000000</td>\n",
              "      <td>70.000000</td>\n",
              "      <td>100000.000000</td>\n",
              "      <td>20000.000000</td>\n",
              "      <td>1000000.000000</td>\n",
              "    </tr>\n",
              "  </tbody>\n",
              "</table>\n",
              "</div>"
            ],
            "text/plain": [
              "           Gender         Age  Annual Salary  Credit Card Debt       Net Worth\n",
              "count  500.000000  500.000000     500.000000        500.000000      500.000000\n",
              "mean     0.506000   46.241674   62127.239608       9607.645049   431475.713625\n",
              "std      0.500465    7.978862   11703.378228       3489.187973   173536.756340\n",
              "min      0.000000   20.000000   20000.000000        100.000000    20000.000000\n",
              "25%      0.000000   40.949969   54391.977195       7397.515792   299824.195900\n",
              "50%      1.000000   46.049901   62915.497035       9655.035568   426750.120650\n",
              "75%      1.000000   51.612263   70117.862005      11798.867487   557324.478725\n",
              "max      1.000000   70.000000  100000.000000      20000.000000  1000000.000000"
            ]
          },
          "metadata": {
            "tags": []
          },
          "execution_count": 268
        }
      ]
    },
    {
      "cell_type": "code",
      "metadata": {
        "id": "B9Ens0OsEynh"
      },
      "source": [
        "from sklearn.model_selection import train_test_split"
      ],
      "execution_count": 269,
      "outputs": []
    },
    {
      "cell_type": "code",
      "metadata": {
        "id": "OAIucLnSE27Q"
      },
      "source": [
        "# split data into training and validation data, for both features and target\n",
        "# The split is based on a random number generator. \n",
        "\n",
        "train_X, val_X, train_y, val_y = train_test_split(X, y, random_state = 0)"
      ],
      "execution_count": 270,
      "outputs": []
    },
    {
      "cell_type": "code",
      "metadata": {
        "id": "rzvWy5yNE50X",
        "outputId": "05c089ea-715f-4076-e8fc-6941c5326576",
        "colab": {
          "base_uri": "https://localhost:8080/",
          "height": 424
        }
      },
      "source": [
        "train_X"
      ],
      "execution_count": 271,
      "outputs": [
        {
          "output_type": "execute_result",
          "data": {
            "text/html": [
              "<div>\n",
              "<style scoped>\n",
              "    .dataframe tbody tr th:only-of-type {\n",
              "        vertical-align: middle;\n",
              "    }\n",
              "\n",
              "    .dataframe tbody tr th {\n",
              "        vertical-align: top;\n",
              "    }\n",
              "\n",
              "    .dataframe thead th {\n",
              "        text-align: right;\n",
              "    }\n",
              "</style>\n",
              "<table border=\"1\" class=\"dataframe\">\n",
              "  <thead>\n",
              "    <tr style=\"text-align: right;\">\n",
              "      <th></th>\n",
              "      <th>Gender</th>\n",
              "      <th>Age</th>\n",
              "      <th>Annual Salary</th>\n",
              "      <th>Credit Card Debt</th>\n",
              "      <th>Net Worth</th>\n",
              "    </tr>\n",
              "  </thead>\n",
              "  <tbody>\n",
              "    <tr>\n",
              "      <th>239</th>\n",
              "      <td>1</td>\n",
              "      <td>45.138518</td>\n",
              "      <td>62939.12851</td>\n",
              "      <td>632.052852</td>\n",
              "      <td>455589.7973</td>\n",
              "    </tr>\n",
              "    <tr>\n",
              "      <th>59</th>\n",
              "      <td>1</td>\n",
              "      <td>42.241817</td>\n",
              "      <td>55207.45679</td>\n",
              "      <td>9976.434857</td>\n",
              "      <td>286062.5162</td>\n",
              "    </tr>\n",
              "    <tr>\n",
              "      <th>406</th>\n",
              "      <td>0</td>\n",
              "      <td>56.672562</td>\n",
              "      <td>58653.65910</td>\n",
              "      <td>17142.413320</td>\n",
              "      <td>201228.0206</td>\n",
              "    </tr>\n",
              "    <tr>\n",
              "      <th>391</th>\n",
              "      <td>1</td>\n",
              "      <td>55.576969</td>\n",
              "      <td>46412.82136</td>\n",
              "      <td>11652.272900</td>\n",
              "      <td>595028.8431</td>\n",
              "    </tr>\n",
              "    <tr>\n",
              "      <th>411</th>\n",
              "      <td>1</td>\n",
              "      <td>44.099227</td>\n",
              "      <td>67121.32166</td>\n",
              "      <td>12087.381160</td>\n",
              "      <td>472403.1231</td>\n",
              "    </tr>\n",
              "    <tr>\n",
              "      <th>...</th>\n",
              "      <td>...</td>\n",
              "      <td>...</td>\n",
              "      <td>...</td>\n",
              "      <td>...</td>\n",
              "      <td>...</td>\n",
              "    </tr>\n",
              "    <tr>\n",
              "      <th>323</th>\n",
              "      <td>0</td>\n",
              "      <td>33.811252</td>\n",
              "      <td>49607.23466</td>\n",
              "      <td>9344.323770</td>\n",
              "      <td>290711.8670</td>\n",
              "    </tr>\n",
              "    <tr>\n",
              "      <th>192</th>\n",
              "      <td>0</td>\n",
              "      <td>38.551020</td>\n",
              "      <td>69248.49530</td>\n",
              "      <td>6445.784981</td>\n",
              "      <td>298246.0609</td>\n",
              "    </tr>\n",
              "    <tr>\n",
              "      <th>117</th>\n",
              "      <td>0</td>\n",
              "      <td>34.681961</td>\n",
              "      <td>84171.16719</td>\n",
              "      <td>12719.644150</td>\n",
              "      <td>244310.5736</td>\n",
              "    </tr>\n",
              "    <tr>\n",
              "      <th>47</th>\n",
              "      <td>0</td>\n",
              "      <td>51.168139</td>\n",
              "      <td>57478.37922</td>\n",
              "      <td>2230.096344</td>\n",
              "      <td>158979.7102</td>\n",
              "    </tr>\n",
              "    <tr>\n",
              "      <th>172</th>\n",
              "      <td>0</td>\n",
              "      <td>40.142348</td>\n",
              "      <td>71148.20248</td>\n",
              "      <td>7917.650970</td>\n",
              "      <td>416817.4673</td>\n",
              "    </tr>\n",
              "  </tbody>\n",
              "</table>\n",
              "<p>375 rows × 5 columns</p>\n",
              "</div>"
            ],
            "text/plain": [
              "     Gender        Age  Annual Salary  Credit Card Debt    Net Worth\n",
              "239       1  45.138518    62939.12851        632.052852  455589.7973\n",
              "59        1  42.241817    55207.45679       9976.434857  286062.5162\n",
              "406       0  56.672562    58653.65910      17142.413320  201228.0206\n",
              "391       1  55.576969    46412.82136      11652.272900  595028.8431\n",
              "411       1  44.099227    67121.32166      12087.381160  472403.1231\n",
              "..      ...        ...            ...               ...          ...\n",
              "323       0  33.811252    49607.23466       9344.323770  290711.8670\n",
              "192       0  38.551020    69248.49530       6445.784981  298246.0609\n",
              "117       0  34.681961    84171.16719      12719.644150  244310.5736\n",
              "47        0  51.168139    57478.37922       2230.096344  158979.7102\n",
              "172       0  40.142348    71148.20248       7917.650970  416817.4673\n",
              "\n",
              "[375 rows x 5 columns]"
            ]
          },
          "metadata": {
            "tags": []
          },
          "execution_count": 271
        }
      ]
    },
    {
      "cell_type": "code",
      "metadata": {
        "id": "oUkiAjOTE9RH"
      },
      "source": [
        "#Task: First, Build a Regression model on it."
      ],
      "execution_count": 272,
      "outputs": []
    },
    {
      "cell_type": "code",
      "metadata": {
        "id": "gwXYcUrRFLQI"
      },
      "source": [
        "import numpy as np\n",
        "from sklearn.linear_model import LinearRegression"
      ],
      "execution_count": 273,
      "outputs": []
    },
    {
      "cell_type": "code",
      "metadata": {
        "id": "FLUagcWzFL7N"
      },
      "source": [
        "#Create a model and fit it\n",
        "\n",
        "model = LinearRegression()"
      ],
      "execution_count": 274,
      "outputs": []
    },
    {
      "cell_type": "code",
      "metadata": {
        "id": "eK9WoLfnFOE4",
        "outputId": "7735285d-9835-460a-9bd1-b094f162ccb5",
        "colab": {
          "base_uri": "https://localhost:8080/"
        }
      },
      "source": [
        "# Fit model\n",
        "model.fit(train_X, train_y)"
      ],
      "execution_count": 275,
      "outputs": [
        {
          "output_type": "execute_result",
          "data": {
            "text/plain": [
              "LinearRegression(copy_X=True, fit_intercept=True, n_jobs=None, normalize=False)"
            ]
          },
          "metadata": {
            "tags": []
          },
          "execution_count": 275
        }
      ]
    },
    {
      "cell_type": "code",
      "metadata": {
        "id": "MV_KXAwrFQK1",
        "outputId": "1136bd26-2242-4546-dc8f-15dfa45da33f",
        "colab": {
          "base_uri": "https://localhost:8080/"
        }
      },
      "source": [
        "print(\"Making predictions for the following 5 attributes:\")\n",
        "print(X.head())\n",
        "print(\"The predictions for Car Purchase Amount are\")\n",
        "print(model.predict(X.head()))"
      ],
      "execution_count": 276,
      "outputs": [
        {
          "output_type": "stream",
          "text": [
            "Making predictions for the following 5 attributes:\n",
            "   Gender        Age  Annual Salary  Credit Card Debt    Net Worth\n",
            "0       0  41.851720    62812.09301      11609.380910  238961.2505\n",
            "1       0  40.870623    66646.89292       9572.957136  530973.9078\n",
            "2       1  43.152897    53798.55112      11160.355060  638467.1773\n",
            "3       1  58.271369    79370.03798      14426.164850  548599.0524\n",
            "4       1  57.313749    59729.15130       5358.712177  560304.0671\n",
            "The predictions for Car Purchase Amount are\n",
            "[35320.79655152 45115.083696   42926.1054499  67424.43532344\n",
            " 55913.13658313]\n"
          ],
          "name": "stdout"
        }
      ]
    },
    {
      "cell_type": "code",
      "metadata": {
        "id": "aY7ZPZX1FT4Z"
      },
      "source": [
        "# predicting values for testing data\n",
        "predicted_Y_values=model.predict(val_X)"
      ],
      "execution_count": 277,
      "outputs": []
    },
    {
      "cell_type": "code",
      "metadata": {
        "id": "5cYWtvaUsrmL",
        "outputId": "3ebc1eb8-3613-4a71-d0c5-24b624c1a3c5",
        "colab": {
          "base_uri": "https://localhost:8080/"
        }
      },
      "source": [
        "predicted_Y_values"
      ],
      "execution_count": 278,
      "outputs": [
        {
          "output_type": "execute_result",
          "data": {
            "text/plain": [
              "array([38951.86396887, 43401.57434815, 29415.20862516, 52151.43361867,\n",
              "       38241.48698162, 53014.7400238 , 60528.33896249, 59538.51436672,\n",
              "       37714.36905143, 31300.0995159 , 46847.92953641, 56973.65712936,\n",
              "       53993.67173046, 70879.5503164 , 27887.74106607, 31528.26866091,\n",
              "       47979.96596909, 58668.61760607, 42371.75978038, 10091.7120819 ,\n",
              "       48516.50048414, 37181.76539953, 46324.42870746, 27589.65662982,\n",
              "       68925.59785699, 43897.70252868, 43405.14460289, 46714.19065273,\n",
              "       61594.52132752, 58235.09313229, 48515.15390116, 42591.76916491,\n",
              "       54757.72748272, 42774.39621607, 63081.68529879, 60117.5093786 ,\n",
              "       35716.68974198, 59983.88281176, 42794.43318512, 42998.47287793,\n",
              "       59621.6900494 , 34215.74093002, 30421.1227859 , 37304.22552814,\n",
              "       41355.05851352, 45115.083696  , 44577.3779106 , 53497.83733058,\n",
              "       38175.01807336, 33637.72798318, 35727.78073355, 41027.76487476,\n",
              "       50188.43430828, 53658.10448647, 39765.68929603, 28699.65143151,\n",
              "       43503.98197406, 57430.80002836, 45507.96893063, 59095.29285219,\n",
              "       38502.77882193, 48025.15383609, 42703.44880345, 47720.29670344,\n",
              "       42321.21052553, 49721.95953432, 59045.90521864, 28165.93130971,\n",
              "       39550.28210627, 50956.82244137, 44419.18417327, 52952.76417331,\n",
              "       23519.34125972, 56510.76018202, 49049.88623502, 30963.45030632,\n",
              "       54014.84312351, 57442.18279831, 52786.11133764, 28440.01196157,\n",
              "       63252.92735198, 50705.85343095, 55168.04796119, 41674.70134047,\n",
              "       31087.39610617, 36545.92047517, 48465.20776276, 38170.99154965,\n",
              "       49345.56179204, 31979.71296053, 61119.65406721, 38140.09016734,\n",
              "       37257.32670408, 36086.19617336, 30721.0835805 , 38547.03381934,\n",
              "       47381.48269534, 41148.68802783, 37349.12064761, 32478.35534743,\n",
              "       34642.86433089, 45859.53114884, 49372.65955587, 35138.3641288 ,\n",
              "       28924.10787913, 37376.52446463, 51940.63999374, 47009.99457437,\n",
              "       63036.36033143, 31838.36671107, 52709.18608451, 47434.80115456,\n",
              "       39412.67542336, 48011.66563476, 51049.57414218, 35473.3697517 ,\n",
              "       55701.15549117, 57460.16984944, 55126.25850395, 60866.97807156,\n",
              "       32061.12250773, 48734.77521688, 33130.28696872, 48956.34451761,\n",
              "       33763.53624355])"
            ]
          },
          "metadata": {
            "tags": []
          },
          "execution_count": 278
        }
      ]
    },
    {
      "cell_type": "code",
      "metadata": {
        "id": "hxvnGfnvFWBv"
      },
      "source": [
        "from sklearn.metrics import mean_absolute_error"
      ],
      "execution_count": 279,
      "outputs": []
    },
    {
      "cell_type": "code",
      "metadata": {
        "id": "7MS4i1Q_FfSw",
        "outputId": "f5753885-52f2-4525-832b-d2b6d0865eb6",
        "colab": {
          "base_uri": "https://localhost:8080/"
        }
      },
      "source": [
        "#calculating the mean absolute error\n",
        "mean_absolute_error(val_y,predicted_Y_values)"
      ],
      "execution_count": 280,
      "outputs": [
        {
          "output_type": "execute_result",
          "data": {
            "text/plain": [
              "1.2119637125016307"
            ]
          },
          "metadata": {
            "tags": []
          },
          "execution_count": 280
        }
      ]
    }
  ]
}